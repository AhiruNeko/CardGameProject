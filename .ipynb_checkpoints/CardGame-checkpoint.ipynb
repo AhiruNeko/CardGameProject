{
 "cells": [
  {
   "cell_type": "markdown",
   "metadata": {
    "id": "ME5yjH7ux6CM"
   },
   "source": [
    "# Card Game Project\n",
    "\n",
    "**Please execute all the codes IN ORDER, this is very important.**"
   ]
  },
  {
   "cell_type": "markdown",
   "metadata": {
    "id": "gJu3lG-SOu4_"
   },
   "source": [
    "## Game Design(Version1)"
   ]
  },
  {
   "cell_type": "markdown",
   "metadata": {
    "id": "z3Kgnraiyccb"
   },
   "source": [
    "Card game is a kind of traditional game. Usually, players need to randomly draw cards from the deck and play them in each round. Our card game adds more gameplay to the traditional card game, which includes these following elements:\n",
    "1. Cards\n",
    "\n",
    "  a. Basic Cards\n",
    "\n",
    "    - Normal Cards\n",
    "    - Skill Cards\n",
    "\n",
    "  b. Judgement Card\n",
    "\n",
    "2. Special Mechanism\n",
    "\n",
    "Therefore, we will introduce these elements and the game rules to you and implement them in Python."
   ]
  },
  {
   "cell_type": "markdown",
   "metadata": {
    "id": "7PjmO3Q1Qzg7"
   },
   "source": [
    "### Game Implementation\n"
   ]
  },
  {
   "cell_type": "markdown",
   "metadata": {
    "id": "JZDLlw4TRtik"
   },
   "source": [
    "(Initialize some basic items)"
   ]
  },
  {
   "cell_type": "code",
   "execution_count": null,
   "metadata": {
    "id": "mhKoiMHmRoBf"
   },
   "outputs": [],
   "source": [
    "import random as rd\n",
    "\n",
    "class Card:\n",
    "\n",
    "  def __init__(self, **kwargs):\n",
    "    self.name = \"card\"\n",
    "    self.value = 0\n",
    "\n",
    "  def __str__(self):\n",
    "    return self.name\n",
    "\n",
    "  def execute(self, *players):\n",
    "    pass"
   ]
  },
  {
   "cell_type": "markdown",
   "metadata": {
    "id": "7MtXuWAfQ-kD"
   },
   "source": [
    "#### Basic Cards"
   ]
  },
  {
   "cell_type": "markdown",
   "metadata": {
    "id": "QzJEsYYJREAU"
   },
   "source": [
    "Basic cards are cards that players can draw each round and use as their own hand cards."
   ]
  },
  {
   "cell_type": "code",
   "execution_count": null,
   "metadata": {
    "id": "HjWWgBpCRiaJ"
   },
   "outputs": [],
   "source": [
    "class Basic_Card(Card):\n",
    "\n",
    "  def __init__(self, player, **kwargs):\n",
    "    super().__init__()\n",
    "    self.player = player\n",
    "    self.type = kwargs[\"type\"]"
   ]
  },
  {
   "cell_type": "markdown",
   "metadata": {
    "id": "HIYaXq1cSfe1"
   },
   "source": [
    "Basic card includes two kinds of cards: normal cards and skill cards."
   ]
  },
  {
   "cell_type": "markdown",
   "metadata": {
    "id": "7P5Ox6ttSnnJ"
   },
   "source": [
    "##### Normal Cards"
   ]
  },
  {
   "cell_type": "markdown",
   "metadata": {
    "id": "7hThq3fGSqqv"
   },
   "source": [
    "There are 6 types of normal cards:\n",
    "1. Attack Air Card (atk air ard): Use on the enemy to deal 2 points of damage, whose attack range is air.\n",
    "2. Attack Land Card (atk land card): Use on the enemy to deal 2 points of damage, whose attack range is land.\n",
    "3. Defense Level 1 Air Card (def 1 air card): Can resist 1 point of local damage, whose defense range is air.\n",
    "4. Defense Level 2 Air Card (def 2 air card): Can resist 2 point of local damage, whose defense range is air.\n",
    "5. Defense Level 1 Land Card (def 1 land card): Can resist 1 point of local damage, whose defense range is land.\n",
    "6. Defense Level 2 Land Card (def 2 land card): Can resist 2 point of local damage, whose defense range is land.\n",
    "\n",
    "And one of the important rule here is that if the range of attack card and the defense card are different, defense card will not work."
   ]
  },
  {
   "cell_type": "code",
   "execution_count": null,
   "metadata": {
    "id": "bzeMyS3QUq7m"
   },
   "outputs": [],
   "source": [
    "class Normal_Card(Basic_Card):\n",
    "\n",
    "  def __init__(self, player, **kwargs):\n",
    "    super().__init__(player, **kwargs)\n",
    "    self.player = player\n",
    "\n",
    "    self.range: str = kwargs[\"range\"]  # \"air\" \"land\"\n",
    "    # self.type: str = kwargs[\"type\"]  # \"def\" \"atk\"\n",
    "    self.name = \" \".join([kwargs[\"type\"], kwargs[\"range\"], \"card\"])\n",
    "    try:\n",
    "      self.level: int = kwargs[\"level\"]  # 1(low) 2(high)\n",
    "      self.name = \" \".join([kwargs[\"type\"], str(kwargs[\"level\"]), kwargs[\"range\"], \"card\"])\n",
    "    except KeyError:\n",
    "      pass\n",
    "\n",
    "    if self.type == \"def\":\n",
    "      self.value = self.level\n",
    "    elif self.type == \"atk\":\n",
    "      self.value = -2\n",
    "\n",
    "  def execute(self, random_num):\n",
    "    if self.type == \"def\" and self.player.enemy.card.type == \"atk\" and self.range == self.player.enemy.card.range:\n",
    "      if self.player.skill.type == \"comprehensive_def\":\n",
    "        self.player.hp += 2\n",
    "        self.player.skill.life = 0\n",
    "      else:\n",
    "        self.player.hp += self.value\n",
    "    elif self.type == \"def\" and self.player.enemy.card.type == \"atk\" and self.range != self.player.enemy.card.range:\n",
    "      if self.player.skill.type == \"comprehensive_def\":\n",
    "        self.player.hp += 2\n",
    "        self.player.skill.life = 0\n",
    "      elif rd.random() < 0.5:\n",
    "        self.player.hp += 1\n",
    "        return True\n",
    "    elif self.type == \"atk\" and self.player.enemy.card.type != \"atk\":\n",
    "      self.player.enemy.hp += self.value\n",
    "    elif self.type == self.player.enemy.card.type == \"atk\":\n",
    "      if self.player.skill.type == \"fierce_attack\" and self.player.enemy.skill.type != \"fierce_attack\":\n",
    "        self.player.enemy.hp -= 1\n",
    "        self.player.skill.life = 0\n",
    "      elif self.player.skill.type != \"fierce_attack\" and self.player.enemy.skill.type != \"fierce_attack\":\n",
    "        self.player.enemy.hp += self.value\n",
    "      elif self.player.skill.type == \"fierce_attack\" and self.player.enemy.skill.type == \"fierce_attack\":\n",
    "        self.player.enemy.hp -= 1\n",
    "        self.player.skill.life = 0\n",
    "    elif self.type == self.player.enemy.card.type == \"def\":\n",
    "      if random_num < 0.5:\n",
    "        self.player.hp += 1\n",
    "        return True\n",
    "    return False"
   ]
  },
  {
   "cell_type": "markdown",
   "metadata": {
    "id": "bX_DmafXV4WA"
   },
   "source": [
    "##### Skill Cards"
   ]
  },
  {
   "cell_type": "markdown",
   "metadata": {
    "id": "Hc8kNomEWAHg"
   },
   "source": [
    "Skill cards can provide players with tactical skills. They can be installed in the player's skill area. They will automatically take effect when the conditions for use are met. They will become invalid after one use. If the skill card is not used within two rounds after being in the skill area, it will also become invalid.\n",
    "\n",
    "Skill cards include the following four types:\n",
    "1. Comprehensive Defense Card: When receiving enemy damage, using any level or range of defense cards will generate 2 points of defense effect.\n",
    "2. Impeccable Card: When the judgment card is true, it will makes the judgment card invalid for all players.\n",
    "3. First Aid Card: When the health is lower than (when dying), it will reset health to 1.\n",
    "4. Fierce Attack Card: If both players use attack cards, the enemy will be damaged by 1 point, and the player himself will not be damaged. If both players have this skill equipped, both players will be damaged by 1 point.\n",
    "\n",
    "(The effects of skill cards will be implemented in other related codes)"
   ]
  },
  {
   "cell_type": "code",
   "execution_count": null,
   "metadata": {
    "id": "SQIUs9jCZTbv"
   },
   "outputs": [],
   "source": [
    "class Skill_Card(Basic_Card):\n",
    "  \"\"\"\n",
    "  comprehensive_def, impeccable, first_aid, fierce_attack, none\n",
    "  \"\"\"\n",
    "\n",
    "  def __init__(self, player, **kwargs):\n",
    "    super().__init__(player, **kwargs)\n",
    "    self.life = 2\n",
    "    self.name = self.type + \" card\"\n",
    "\n",
    "  def __str__(self):\n",
    "    return self.name + \" \" + str(self.life)"
   ]
  },
  {
   "cell_type": "markdown",
   "metadata": {
    "id": "ZwP7X5kLZ-mE"
   },
   "source": [
    "#### Judgement Card"
   ]
  },
  {
   "cell_type": "markdown",
   "metadata": {
    "id": "puZjreqKaG96"
   },
   "source": [
    "The judgment card is drawn by all players and is effective for all players. Each card has its own special effectiveness probability, and this probability will change according to the number of rounds.\n",
    "\n",
    "There are 4 kinds of judgement cards:\n",
    "1. Restore Card: When effective, all players recover 1 health point. The probability of it taking effect in rounds 1 to 5 is 0.8, the probability of it taking effect in rounds 5 to 10 is 0.5, and the probability of it taking effect after round 10 is 0.1.\n",
    "2. Airstrike Card: When effective, all players cause 1 damage. The probability of it taking effect in rounds 1 to 5 is 0.2, the probability of it taking effect in rounds 5 to 10 is 0.5, and the probability of it taking effect after round 10 is 0.8.\n",
    "3. Lightning Card: When effective, randomly select one player and cause him 1 damage. The probability of it taking effect in rounds 1 to 5 is 0.5 and the probability of it taking effect after round 5 is 1.\n",
    "4. Famine Card: When effective, all players should discard one hand cards. The probability of it taking effect in rounds 1 to 5 is 0.2, the probability of it taking effect in rounds 5 to 10 is 0.5, and the probability of it taking effect after round 10 is 0.8."
   ]
  },
  {
   "cell_type": "code",
   "execution_count": null,
   "metadata": {
    "id": "xeo6z7JYc-b4"
   },
   "outputs": [],
   "source": [
    "class Judgement_Card(Card):\n",
    "\n",
    "  def __init__(self):\n",
    "    super().__init__()\n",
    "    self.probability = 0.5\n",
    "\n",
    "  def update(self, counter):\n",
    "    if counter < 5:\n",
    "      self.probability = 0.2\n",
    "    elif counter < 10:\n",
    "      self.probability = 0.5\n",
    "    else:\n",
    "      self.probability = 0.8\n",
    "\n",
    "\n",
    "class Lightning_Card(Judgement_Card):\n",
    "\n",
    "  def __init__(self):\n",
    "    super().__init__()\n",
    "    self.type = \"lightning\"\n",
    "    self.name = \" \".join([self.type, \"card\"])\n",
    "    self.value = -1\n",
    "\n",
    "  def execute(self, *players):\n",
    "    if rd.random() < self.probability:\n",
    "      for p in players:\n",
    "        if p.skill.type == \"impeccable\":\n",
    "          p.skill.life = 0\n",
    "          return False\n",
    "      player = rd.choice(players)\n",
    "      player.hp += self.value\n",
    "      return player.name\n",
    "    return False\n",
    "\n",
    "  def update(self, counter):\n",
    "    if counter < 5:\n",
    "      self.probability = 0.5\n",
    "    else:\n",
    "      self.probability = 1\n",
    "\n",
    "\n",
    "class Airstrike_Card(Judgement_Card):\n",
    "\n",
    "  def __init__(self):\n",
    "    super().__init__()\n",
    "    self.type = \"airstrike\"\n",
    "    self.name = \" \".join([self.type, \"card\"])\n",
    "    self.value = -1\n",
    "\n",
    "  def execute(self, *players) -> bool:\n",
    "    if rd.random() < self.probability:\n",
    "      for p in players:\n",
    "        if p.skill.type == \"impeccable\":\n",
    "          p.skill.life = 0\n",
    "          return False\n",
    "      for p in players:\n",
    "        p.hp += self.value\n",
    "      return True\n",
    "    return False\n",
    "\n",
    "\n",
    "class Restore_Card(Judgement_Card):\n",
    "\n",
    "  def __init__(self):\n",
    "    super().__init__()\n",
    "    self.type = \"restore\"\n",
    "    self.name = \" \".join([self.type, \"card\"])\n",
    "    self.value = 1\n",
    "\n",
    "  def execute(self, *players) -> bool:\n",
    "    if rd.random() < self.probability:\n",
    "      for p in players:\n",
    "        if p.skill.type == \"impeccable\":\n",
    "          p.skill.life = 0\n",
    "          return False\n",
    "      for p in players:\n",
    "        p.hp += self.value\n",
    "      return True\n",
    "    return False\n",
    "\n",
    "  def update(self, counter):\n",
    "    if counter < 5:\n",
    "      self.probability = 0.8\n",
    "    elif counter < 10:\n",
    "      self.probability = 0.5\n",
    "    else:\n",
    "      self.probability = 0.1\n",
    "\n",
    "\n",
    "class Famine_Card(Judgement_Card):\n",
    "\n",
    "  def __init__(self):\n",
    "    super().__init__()\n",
    "    self.type = \"famine\"\n",
    "    self.name = \" \".join([self.type, \"card\"])\n",
    "\n",
    "  def execute(self, *players) -> bool:\n",
    "    if rd.random() < self.probability:\n",
    "      for p in players:\n",
    "        if p.skill.type == \"impeccable\":\n",
    "          p.skill.life = 0\n",
    "          return False\n",
    "      for p in players:\n",
    "        if p.cards:\n",
    "          card_index = rd.randint(0, len(p.cards) - 1)\n",
    "          p.cards.pop(card_index)\n",
    "      return True\n",
    "    return False"
   ]
  },
  {
   "cell_type": "markdown",
   "metadata": {
    "id": "wbEgOmeuJmU1"
   },
   "source": [
    "#### Mechanism\n"
   ]
  },
  {
   "cell_type": "markdown",
   "metadata": {
    "id": "S2rjpUY6Jr5Q"
   },
   "source": [
    "Our card game has two special mechanism:\n",
    "\n",
    "1. **Different range of attack and defense**: When one player plays a defense card and the other player plays an attack card, but the card ranges of the players are different, the defender has a 0.5 probability of gaining 1 point of defense.\n",
    "2. **Both Defense**: When both players play defense cards, there is a 0.5 chance that both players will recover 1 HP.\n",
    "\n",
    "The code implementation of mechanism is integrated in the \"execute\" method of class \"Normal_Card\"."
   ]
  },
  {
   "cell_type": "markdown",
   "metadata": {
    "id": "Dz9UWFTJL-V-"
   },
   "source": [
    "#### Player"
   ]
  },
  {
   "cell_type": "markdown",
   "metadata": {
    "id": "4MJCSajJMAeP"
   },
   "source": [
    "The player in our card game has these key features:\n",
    "\n",
    "1. **Hit Points (HP)**: 5\n",
    "2. **Hand Cards**: At most 4 cards. All of the hands cards should be basic cards, including normal cards and skill cards. Enemy can not know your hand cards. Once the number is exceeded, the player must discard some cards.\n",
    "3. **Equipped Skill Cards**: At most 1 card. Once equipped, the skill will be automatically triggered if the conditions are met and then become invalid. If it is not triggered within two rounds after equipped, it will become invalid."
   ]
  },
  {
   "cell_type": "code",
   "execution_count": null,
   "metadata": {
    "id": "VVTogOeBO1VD"
   },
   "outputs": [],
   "source": [
    "class Player:\n",
    "\n",
    "  def __init__(self, name=\"player\"):\n",
    "    self.name = name\n",
    "    self.hp_max = 5\n",
    "    self.hp = self.hp_max\n",
    "    self.cards_max = 4\n",
    "    self.cards = []\n",
    "    self.skill = Skill_Card(self, type=\"none\")\n",
    "    self.enemy = None\n",
    "    self.card = Normal_Card(self, type=\"none\", range=\"\")\n",
    "\n",
    "  def __str__(self):\n",
    "    return self.name\n",
    "\n",
    "  def set_enemy(self, enemy):\n",
    "    self.enemy = enemy\n",
    "\n",
    "  def play_card(self, card_index):\n",
    "    self.card = self.cards.pop(card_index)\n",
    "\n",
    "  def get_basic_cards(self, num):\n",
    "    for i in range(num):\n",
    "      random_num = rd.random()\n",
    "      if random_num < 0.6:\n",
    "        rd_num = rd.random()\n",
    "        if rd_num < 0.25:\n",
    "          self.cards.append(Normal_Card(self, type=\"atk\", range=\"air\"))\n",
    "        elif rd_num < 0.5:\n",
    "          self.cards.append(Normal_Card(self, type=\"atk\", range=\"land\"))\n",
    "        elif rd_num < 0.625:\n",
    "          self.cards.append(Normal_Card(self, type=\"def\", level=1, range=\"air\"))\n",
    "        elif rd_num < 0.75:\n",
    "          self.cards.append(Normal_Card(self, type=\"def\", level=2, range=\"air\"))\n",
    "        elif rd_num < 0.875:\n",
    "          self.cards.append(Normal_Card(self, type=\"def\", level=1, range=\"land\"))\n",
    "        else:\n",
    "          self.cards.append(Normal_Card(self, type=\"def\", level=2, range=\"land\"))\n",
    "      else:\n",
    "        self.cards.append(rd.choice([Skill_Card(self, type=\"comprehensive_def\"),\n",
    "                        Skill_Card(self, type=\"first_aid\"),\n",
    "                        Skill_Card(self, type=\"impeccable\"),\n",
    "                        Skill_Card(self, type=\"fierce_attack\")]))\n",
    "\n",
    "  def fold(self, card_index):\n",
    "    try:\n",
    "      self.cards.pop(card_index)\n",
    "    except IndexError:\n",
    "      pass\n",
    "\n",
    "  def is_full(self) -> bool:\n",
    "    return len(self.cards) > self.cards_max\n",
    "\n",
    "  def update_hp(self):\n",
    "    self.hp = min(self.hp, self.hp_max)\n",
    "    if 0 >= self.hp == self.enemy.hp <= 0:\n",
    "      self.hp = 1\n",
    "      self.enemy.hp = 1\n",
    "\n",
    "  def get_skill_cards(self) -> list:\n",
    "    return [i for i in self.cards if isinstance(i, Skill_Card)]\n",
    "\n",
    "  def get_normal_cards_index(self):\n",
    "    return [i for i in range(len(self.cards)) if isinstance(self.cards[i], Normal_Card)]\n",
    "\n",
    "  def skip(self):\n",
    "    self.card = Normal_Card(self, type=\"skip\", range=\"\")"
   ]
  },
  {
   "cell_type": "markdown",
   "metadata": {
    "id": "AULm0ux1WFjJ"
   },
   "source": [
    "#### Winning and Losing Rules"
   ]
  },
  {
   "cell_type": "markdown",
   "metadata": {
    "id": "zWjw3cu0WRvL"
   },
   "source": [
    "1. If the HP of player 1 has been smaller or equal to 0 and the HP of player 2 is greater than 0, then player 2 is the winner.\n",
    "2. If both HP of player 1 and 2 is smaller or equal to 0, then the player whose HP is higher is the winner.\n",
    "3. If both HP of player 1 and 2 is smaller or equal to 0 and their HP are the same, then both of their HP will be reset to 1 and continue the game until there is a winner."
   ]
  },
  {
   "cell_type": "markdown",
   "metadata": {
    "id": "vYuRJoCXVhTq"
   },
   "source": [
    "#### Prophecy"
   ]
  },
  {
   "cell_type": "markdown",
   "metadata": {
    "id": "opgUaLjIVqdU"
   },
   "source": [
    "Prophecy is only performed in the first round, which follows these rule:\n",
    "\n",
    "1. Players need to predict the type of judgment card that will appear during the judgment phase.\n",
    "2. If the prediction is successful, the enemy will suffer 1 damage, and if the prediction fails, the player himself will suffer 1 damage."
   ]
  },
  {
   "cell_type": "markdown",
   "metadata": {
    "id": "zpKqWp6ZRpU_"
   },
   "source": [
    "#### Round"
   ]
  },
  {
   "cell_type": "markdown",
   "metadata": {
    "id": "2agzQoooRr41"
   },
   "source": [
    "At the beginning of the game, the players will get 2 cards.\n",
    "\n",
    "Single round include these parts:\n",
    "\n",
    "1. **Prophecy round**: For player who play first can prophecing the first round judgement card, if prophecy is right, the opponent get 1HP hurt, vice versa.\n",
    "2. **Draw Cards**: Each player draw 1 basic card (normal card or skill card). If the number of player's hand cards has exceeds 4, then player should discard some cards.\n",
    "3. **Equip Skill Card**: The players can equip 1 skill cards or replace the equipped skill card to a new one.\n",
    "4. **Play Cards**: Players should play 1 basic card **at the same time** from their hand cards. And then determine the effectiveness of the cards and the mechanism, and update the HP of both players.\n",
    "5. **Judgement**: Players should draw 1 judgement card together and determine whether the judgement card is triggered. And then update the HP of both players.\n",
    "6. **End of the Round**:\n",
    "  - Check if any equipped skill is not triggered within two rounds. If any, then that equipped skill will become invalid.\n",
    "  - Update the probability of judgement cards according to the number of round.\n",
    "  - Check if anyone has won. If not, start a new round."
   ]
  },
  {
   "cell_type": "markdown",
   "metadata": {
    "id": "qyqhvnxk2uCN"
   },
   "source": [
    "#### Different format of playing"
   ]
  },
  {
   "cell_type": "markdown",
   "metadata": {
    "id": "NUIJdBhHaSep"
   },
   "source": [
    "We wrote programs for three different format of playing, including computer versus computer,player versus computer, and player versus player.\n",
    "\n",
    "For computer versus player and player versus player games, the player input follow these rules:\n",
    "1. In the card selection stage (including playing cards and equip skill cards), the player should enter the index of the card they want use and the index start from 0.\n",
    "2. If the player do not want to equip skill or make a prophecy in a round, the player should enter \"none\"."
   ]
  },
  {
   "cell_type": "code",
   "execution_count": null,
   "metadata": {
    "id": "5OeR_rmJawdc"
   },
   "outputs": [],
   "source": [
    "class Round:\n",
    "\n",
    "  def __init__(self):\n",
    "    self.player1 = Player(\"p1\")\n",
    "    self.player2 = Player(\"p2\")\n",
    "    self.player1.set_enemy(self.player2)\n",
    "    self.player2.set_enemy(self.player1)\n",
    "    self.players = [self.player1, self.player2]\n",
    "    for p in self.players:\n",
    "      p.get_basic_cards(2)\n",
    "    self.counter = 0\n",
    "\n",
    "  @staticmethod\n",
    "  def get_judgement_card() -> Judgement_Card:\n",
    "    return rd.choice([Airstrike_Card(), Famine_Card(), Lightning_Card(), Restore_Card()])\n",
    "\n",
    "  def run(self, mode=\"c2c\", log=1) -> tuple:\n",
    "    \"\"\"\n",
    "    mode:\n",
    "      \"c2c\": computer versus computer\n",
    "        self.player1: computer\n",
    "        self.player2: computer\n",
    "      \"c2p\": computer versus player\n",
    "        self.player1: computer\n",
    "        self.player2: player\n",
    "      \"p2p\": player versus player\n",
    "        self.player1: player\n",
    "        self.player2: player\n",
    "    log:\n",
    "      0: no log\n",
    "      1: detailed log\n",
    "      2: simple log\n",
    "    \"\"\"\n",
    "    first_round = True\n",
    "    while True:\n",
    "      self.counter += 1\n",
    "\n",
    "      # Draw cards and fold\n",
    "      if mode == \"c2c\":\n",
    "        for p in self.players:\n",
    "          p.get_basic_cards(2)\n",
    "          while p.is_full():\n",
    "            p.fold(rd.randint(0, len(p.cards) - 1))\n",
    "      elif mode == \"p2p\":\n",
    "        for p in self.players:\n",
    "          p.get_basic_cards(2)\n",
    "          while True:\n",
    "              try:\n",
    "                p.fold(int(input(\"Please fold: \" + str([str(i) for i in p.cards]))))\n",
    "                if p.is_full():\n",
    "                  continue\n",
    "                else:\n",
    "                  break\n",
    "              except Exception:\n",
    "                continue\n",
    "      elif mode == \"c2p\":\n",
    "        for p in self.players:\n",
    "          p.get_basic_cards(2)\n",
    "        while self.player1.is_full():\n",
    "          self.player1.fold(rd.randint(0, len(self.player1.cards) - 1))\n",
    "        while True:\n",
    "          try:\n",
    "            self.player2.fold(int(input(\"Please fold: \" + str([str(i) for i in self.player2.cards]))))\n",
    "            if self.player2.is_full():\n",
    "              continue\n",
    "            else:\n",
    "              break\n",
    "          except Exception:\n",
    "            continue\n",
    "\n",
    "      if log == 1:\n",
    "        print(\"\\nDraw cards:\")\n",
    "        print(\"\\np1: \" + str([str(i) for i in self.player1.cards]) + \" | Skill: \" + str(\n",
    "            self.player1.skill) + \" | HP: \" + str(self.player1.hp))\n",
    "        print(\"\\np2: \" + str([str(i) for i in self.player2.cards]) + \" | Skill: \" + str(\n",
    "            self.player2.skill) + \" | HP: \" + str(self.player2.hp))\n",
    "        print(\"\\n\")\n",
    "\n",
    "      # Equip skills\n",
    "      if mode == \"c2c\":\n",
    "        for p in self.players:\n",
    "          skill_cards = p.get_skill_cards()\n",
    "          if skill_cards and rd.random() < 0.5:\n",
    "            p.skill = rd.choice(skill_cards)\n",
    "            p.cards.remove(p.skill)\n",
    "      elif mode == \"p2p\":\n",
    "        for p in self.players:\n",
    "          skill_cards = p.get_skill_cards()\n",
    "          while True:\n",
    "            user_input = input(\"Equip your skill: \" + str([str(i) for i in skill_cards]))\n",
    "            if user_input != \"none\":\n",
    "              try:\n",
    "                p.skill = skill_cards[int(user_input)]\n",
    "              except Exception:\n",
    "                continue\n",
    "              p.cards.remove(p.skill)\n",
    "              break\n",
    "            elif user_input == \"none\":\n",
    "              break\n",
    "      elif mode == \"c2p\":\n",
    "        skill_cards = self.player1.get_skill_cards()\n",
    "        if skill_cards and rd.random() < 0.5:\n",
    "          self.player1.skill = rd.choice(skill_cards)\n",
    "          self.player1.cards.remove(self.player1.skill)\n",
    "\n",
    "        skill_cards = self.player2.get_skill_cards()\n",
    "        while True:\n",
    "            user_input = input(\"Equip your skill: \" + str([str(i) for i in skill_cards]))\n",
    "            if user_input != \"none\":\n",
    "              try:\n",
    "                p.skill = skill_cards[int(user_input)]\n",
    "              except Exception:\n",
    "                continue\n",
    "              p.cards.remove(p.skill)\n",
    "              break\n",
    "            elif user_input == \"none\":\n",
    "              break\n",
    "\n",
    "      if log == 1:\n",
    "        print(\"Equip skills:\")\n",
    "        print(\"\\np1: \" + str([str(i) for i in self.player1.cards]) + \" | Skill: \" + str(\n",
    "            self.player1.skill) + \" | HP: \" + str(self.player1.hp))\n",
    "        print(\"\\np2: \" + str([str(i) for i in self.player2.cards]) + \" | Skill: \" + str(\n",
    "            self.player2.skill) + \" | HP: \" + str(self.player2.hp))\n",
    "        print(\"\\n\")\n",
    "\n",
    "      # Play cards\n",
    "      # Player1\n",
    "      if not (self.player1.get_normal_cards_index() == []):\n",
    "        if mode == \"c2c\" or mode == \"c2p\":\n",
    "          index1 = rd.choice(self.player1.get_normal_cards_index())\n",
    "          self.player1.play_card(index1)\n",
    "        elif mode == \"p2p\":\n",
    "          while True:\n",
    "            try:\n",
    "              index1 = int(input(\"Play your cards: \" + str([str(i) for i in self.player1.cards])))\n",
    "              if isinstance(self.player1.cards[index1], Normal_Card):\n",
    "                break\n",
    "            except Exception:\n",
    "              continue\n",
    "          self.player1.play_card(index1)\n",
    "      else:\n",
    "        self.player1.skip()\n",
    "\n",
    "      # Player2\n",
    "      if not (self.player2.get_normal_cards_index() == []):\n",
    "        if mode == \"c2c\":\n",
    "          index2 = rd.choice(self.player2.get_normal_cards_index())\n",
    "          self.player2.play_card(index2)\n",
    "        elif mode == \"p2p\" or mode == \"c2p\":\n",
    "          while True:\n",
    "            try:\n",
    "              index2 = int(input(\"Play your cards: \" + str([str(i) for i in self.player2.cards])))\n",
    "              if isinstance(self.player2.cards[index2], Normal_Card):\n",
    "                break\n",
    "            except Exception:\n",
    "              continue\n",
    "          self.player2.play_card(index2)\n",
    "      else:\n",
    "        self.player2.skip()\n",
    "\n",
    "      # Cards execute\n",
    "      random_num = rd.random()\n",
    "      mechanism1 = self.player1.card.execute(random_num)\n",
    "      mechanism2 = self.player2.card.execute(random_num)\n",
    "      mechanism = mechanism1 or mechanism2\n",
    "\n",
    "      # Judgement\n",
    "      j_card = self.get_judgement_card()\n",
    "      j_card.update(self.counter)\n",
    "\n",
    "      # prophecy\n",
    "      p1_prophecy = p2_prophecy = \"none\"\n",
    "      if first_round:\n",
    "        origin_valid_choices = [\"airstrike card\", \"famine card\", \"lightning card\", \"restore card\"]\n",
    "        valid_choices = origin_valid_choices + [\"none\"] * 4\n",
    "        if mode == \"c2c\":\n",
    "          p1_choice = rd.randint(0, 3)\n",
    "          p2_choice = rd.randint(0, 3)\n",
    "          if valid_choices[int(p1_choice)] != \"none\":\n",
    "            p1_prophecy = \"success\" if valid_choices[int(p1_choice)] == str(j_card) else \"fail\"\n",
    "          if valid_choices[int(p2_choice)] != \"none\":\n",
    "            p2_prophecy = \"success\" if valid_choices[int(p2_choice)] == str(j_card) else \"fail\"\n",
    "        elif mode == \"p2p\":\n",
    "          while True:\n",
    "            p1_choice = input(\"Please make your prophecy: \" + str(origin_valid_choices))\n",
    "            try:\n",
    "              if p1_choice != \"none\":\n",
    "                p1_prophecy = \"success\" if origin_valid_choices[int(p1_choice)] == str(j_card) else \"fail\"\n",
    "              break\n",
    "            except Exception:\n",
    "              continue\n",
    "          while True:\n",
    "            p2_choice = input(\"Please make your prophecy: \" + str(origin_valid_choices))\n",
    "            try:\n",
    "              if p2_choice != \"none\":\n",
    "                p2_prophecy = \"success\" if origin_valid_choices[int(p2_choice)] == str(j_card) else \"fail\"\n",
    "              break\n",
    "            except Exception:\n",
    "              continue\n",
    "        elif mode == \"c2p\":\n",
    "          p1_choice = rd.randint(0, 3)\n",
    "          if valid_choices[int(p1_choice)] != \"none\":\n",
    "            p1_prophecy = \"success\" if valid_choices[int(p1_choice)] == str(j_card) else \"fail\"\n",
    "          while True:\n",
    "            p2_choice = input(\"Please make your prophecy: \" + str(origin_valid_choices))\n",
    "            try:\n",
    "              if p2_choice != \"none\":\n",
    "                p2_prophecy = \"success\" if origin_valid_choices[int(p2_choice)] == str(j_card) else \"fail\"\n",
    "              break\n",
    "            except Exception:\n",
    "              continue\n",
    "        if p1_prophecy == \"success\":\n",
    "          self.player2.hp -= 1\n",
    "        elif p1_prophecy == \"fail\":\n",
    "          self.player1.hp -= 1\n",
    "        if p2_prophecy == \"success\":\n",
    "          self.player1.hp -= 1\n",
    "        elif p2_prophecy == \"fail\":\n",
    "          self.player2.hp -= 1\n",
    "\n",
    "      j_result = j_card.execute(self.player1, self.player2)\n",
    "\n",
    "      for p in self.players:\n",
    "        p.update_hp()\n",
    "        if p.skill.type == \"first_aid\" and p.hp <= 0:\n",
    "          p.hp = 1\n",
    "          p.skill.life = 0\n",
    "        if p.skill.type != \"none\":\n",
    "          p.skill.life -= 1\n",
    "          if p.skill.life <= 0:\n",
    "              p.skill = Skill_Card(p, type=\"none\")\n",
    "\n",
    "      if log == 1:\n",
    "        print(\"End of the round:\")\n",
    "        print(\"\\np1: \" + str([str(i) for i in self.player1.cards]) + \" | Skill: \" + str(self.player1.skill) + \" | Card: \" + str(self.player1.card) + \" | HP: \" + str(self.player1.hp))\n",
    "        print(\"\\np2: \" + str([str(i) for i in self.player2.cards]) + \" | Skill: \" + str(self.player2.skill) + \" | Card: \" + str(self.player2.card) + \" | HP: \" + str(self.player2.hp))\n",
    "        print(\"\\n\" + str(j_card) + \" -> \" + str(j_result))\n",
    "        if first_round:\n",
    "          print(\"p1 prophecy:\", p1_prophecy)\n",
    "          print(\"p2 prophecy:\", p2_prophecy)\n",
    "        print(\"\\nmechanism -> \" + str(mechanism))\n",
    "        print(\"-----------------------------------------------------------------------------------------------\")\n",
    "\n",
    "      first_round = False\n",
    "\n",
    "      if self.player1.hp <= 0 and self.player1.hp < self.player2.hp:\n",
    "        if log == 2 or log == 1:\n",
    "          print(\"\\n\\n=========================================================================================\\n\")\n",
    "          print(\"p2 win.\")\n",
    "          print(\"Total round:\", self.counter)\n",
    "        return \"p2\", self.counter\n",
    "      elif self.player2.hp <= 0 and self.player2.hp < self.player1.hp:\n",
    "        if log == 2 or log == 1:\n",
    "          print(\"\\n\\n=========================================================================================\\n\")\n",
    "          print(\"p1 win.\")\n",
    "          print(\"Total round:\", self.counter)\n",
    "        return \"p1\", self.counter"
   ]
  },
  {
   "cell_type": "markdown",
   "metadata": {
    "id": "xAXlyyOwssJF"
   },
   "source": [
    "#### Demostration"
   ]
  },
  {
   "cell_type": "markdown",
   "metadata": {
    "id": "XtTgZJZgsy3c"
   },
   "source": [
    "This is a demostration of how our card game works. The game demostration is a game between computer and computer."
   ]
  },
  {
   "cell_type": "code",
   "execution_count": null,
   "metadata": {
    "colab": {
     "base_uri": "https://localhost:8080/"
    },
    "id": "DVOzod_Ws_mj",
    "outputId": "a1938c84-f4b6-45dc-b3b9-35cb2f8b6999"
   },
   "outputs": [
    {
     "name": "stdout",
     "output_type": "stream",
     "text": [
      "\n",
      "Draw cards:\n",
      "\n",
      "p1: ['first_aid card 2', 'atk air card', 'atk land card', 'fierce_attack card 2'] | Skill: none card 2 | HP: 5\n",
      "\n",
      "p2: ['first_aid card 2', 'def 2 air card', 'impeccable card 2', 'def 2 air card'] | Skill: none card 2 | HP: 5\n",
      "\n",
      "\n",
      "Equip skills:\n",
      "\n",
      "p1: ['atk air card', 'atk land card', 'fierce_attack card 2'] | Skill: first_aid card 2 | HP: 5\n",
      "\n",
      "p2: ['def 2 air card', 'impeccable card 2', 'def 2 air card'] | Skill: first_aid card 2 | HP: 5\n",
      "\n",
      "\n",
      "End of the round:\n",
      "\n",
      "p1: ['atk air card', 'fierce_attack card 2'] | Skill: first_aid card 1 | Card: atk land card | HP: 3\n",
      "\n",
      "p2: ['def 2 air card', 'impeccable card 2'] | Skill: first_aid card 1 | Card: def 2 air card | HP: 3\n",
      "\n",
      "lightning card -> False\n",
      "p1 prophecy: fail\n",
      "p2 prophecy: success\n",
      "\n",
      "mechanism -> False\n",
      "-----------------------------------------------------------------------------------------------\n",
      "\n",
      "Draw cards:\n",
      "\n",
      "p1: ['atk air card', 'fierce_attack card 2', 'first_aid card 2', 'comprehensive_def card 2'] | Skill: first_aid card 1 | HP: 3\n",
      "\n",
      "p2: ['def 2 air card', 'impeccable card 2', 'comprehensive_def card 2', 'fierce_attack card 2'] | Skill: first_aid card 1 | HP: 3\n",
      "\n",
      "\n",
      "Equip skills:\n",
      "\n",
      "p1: ['atk air card', 'fierce_attack card 2', 'first_aid card 2', 'comprehensive_def card 2'] | Skill: first_aid card 1 | HP: 3\n",
      "\n",
      "p2: ['def 2 air card', 'impeccable card 2', 'comprehensive_def card 2', 'fierce_attack card 2'] | Skill: first_aid card 1 | HP: 3\n",
      "\n",
      "\n",
      "End of the round:\n",
      "\n",
      "p1: ['fierce_attack card 2', 'first_aid card 2', 'comprehensive_def card 2'] | Skill: none card 2 | Card: atk air card | HP: 3\n",
      "\n",
      "p2: ['impeccable card 2', 'comprehensive_def card 2', 'fierce_attack card 2'] | Skill: none card 2 | Card: def 2 air card | HP: 3\n",
      "\n",
      "restore card -> False\n",
      "\n",
      "mechanism -> False\n",
      "-----------------------------------------------------------------------------------------------\n",
      "\n",
      "Draw cards:\n",
      "\n",
      "p1: ['first_aid card 2', 'comprehensive_def card 2', 'def 2 air card', 'atk land card'] | Skill: none card 2 | HP: 3\n",
      "\n",
      "p2: ['impeccable card 2', 'comprehensive_def card 2', 'fierce_attack card 2', 'fierce_attack card 2'] | Skill: none card 2 | HP: 3\n",
      "\n",
      "\n",
      "Equip skills:\n",
      "\n",
      "p1: ['first_aid card 2', 'comprehensive_def card 2', 'def 2 air card', 'atk land card'] | Skill: none card 2 | HP: 3\n",
      "\n",
      "p2: ['impeccable card 2', 'comprehensive_def card 2', 'fierce_attack card 2', 'fierce_attack card 2'] | Skill: none card 2 | HP: 3\n",
      "\n",
      "\n",
      "End of the round:\n",
      "\n",
      "p1: ['first_aid card 2', 'comprehensive_def card 2', 'atk land card'] | Skill: none card 2 | Card: def 2 air card | HP: 2\n",
      "\n",
      "p2: ['impeccable card 2', 'comprehensive_def card 2', 'fierce_attack card 2', 'fierce_attack card 2'] | Skill: none card 2 | Card: skip  card | HP: 2\n",
      "\n",
      "airstrike card -> True\n",
      "\n",
      "mechanism -> False\n",
      "-----------------------------------------------------------------------------------------------\n",
      "\n",
      "Draw cards:\n",
      "\n",
      "p1: ['comprehensive_def card 2', 'atk land card', 'def 1 air card', 'def 2 land card'] | Skill: none card 2 | HP: 2\n",
      "\n",
      "p2: ['impeccable card 2', 'comprehensive_def card 2', 'fierce_attack card 2', 'def 1 land card'] | Skill: none card 2 | HP: 2\n",
      "\n",
      "\n",
      "Equip skills:\n",
      "\n",
      "p1: ['comprehensive_def card 2', 'atk land card', 'def 1 air card', 'def 2 land card'] | Skill: none card 2 | HP: 2\n",
      "\n",
      "p2: ['comprehensive_def card 2', 'fierce_attack card 2', 'def 1 land card'] | Skill: impeccable card 2 | HP: 2\n",
      "\n",
      "\n",
      "End of the round:\n",
      "\n",
      "p1: ['comprehensive_def card 2', 'def 1 air card', 'def 2 land card'] | Skill: none card 2 | Card: atk land card | HP: 2\n",
      "\n",
      "p2: ['comprehensive_def card 2', 'fierce_attack card 2'] | Skill: impeccable card 1 | Card: def 1 land card | HP: 1\n",
      "\n",
      "lightning card -> False\n",
      "\n",
      "mechanism -> False\n",
      "-----------------------------------------------------------------------------------------------\n",
      "\n",
      "Draw cards:\n",
      "\n",
      "p1: ['comprehensive_def card 2', 'def 1 air card', 'first_aid card 2', 'atk land card'] | Skill: none card 2 | HP: 2\n",
      "\n",
      "p2: ['comprehensive_def card 2', 'fierce_attack card 2', 'first_aid card 2', 'atk land card'] | Skill: impeccable card 1 | HP: 1\n",
      "\n",
      "\n",
      "Equip skills:\n",
      "\n",
      "p1: ['comprehensive_def card 2', 'def 1 air card', 'first_aid card 2', 'atk land card'] | Skill: none card 2 | HP: 2\n",
      "\n",
      "p2: ['comprehensive_def card 2', 'fierce_attack card 2', 'first_aid card 2', 'atk land card'] | Skill: impeccable card 1 | HP: 1\n",
      "\n",
      "\n",
      "End of the round:\n",
      "\n",
      "p1: ['comprehensive_def card 2', 'first_aid card 2', 'atk land card'] | Skill: none card 2 | Card: def 1 air card | HP: 0\n",
      "\n",
      "p2: ['comprehensive_def card 2', 'fierce_attack card 2', 'first_aid card 2'] | Skill: none card 2 | Card: atk land card | HP: 1\n",
      "\n",
      "airstrike card -> False\n",
      "\n",
      "mechanism -> False\n",
      "-----------------------------------------------------------------------------------------------\n",
      "\n",
      "\n",
      "=========================================================================================\n",
      "\n",
      "p2 win.\n",
      "Total round: 5\n"
     ]
    },
    {
     "data": {
      "text/plain": [
       "('p2', 5)"
      ]
     },
     "execution_count": 92,
     "metadata": {},
     "output_type": "execute_result"
    }
   ],
   "source": [
    "demo = Round()\n",
    "demo.run()"
   ]
  },
  {
   "cell_type": "markdown",
   "metadata": {
    "id": "Y166GCzzwP6n"
   },
   "source": [
    "### Game Evaluation\n"
   ]
  },
  {
   "cell_type": "markdown",
   "metadata": {
    "id": "3CMp9OJFwP6p"
   },
   "source": [
    "#### Round distribution"
   ]
  },
  {
   "cell_type": "markdown",
   "metadata": {
    "id": "ub3gOvKUwP6p"
   },
   "source": [
    "Number of rounds per each game will be calculated."
   ]
  },
  {
   "cell_type": "code",
   "execution_count": null,
   "metadata": {
    "colab": {
     "base_uri": "https://localhost:8080/",
     "height": 448
    },
    "id": "VJbmtLMZwP6p",
    "outputId": "c37c2b28-fb49-4dc9-da84-288e5a0774f0"
   },
   "outputs": [
    {
     "name": "stdout",
     "output_type": "stream",
     "text": [
      "Average round: 6.939934\n"
     ]
    },
    {
     "data": {
      "image/png": "[encoded data removed]",
      "text/plain": [
       "<Figure size 640x480 with 1 Axes>"
      ]
     },
     "metadata": {},
     "output_type": "display_data"
    }
   ],
   "source": [
    "def round_plot():\n",
    "    round_counter = []\n",
    "    n = 1000000\n",
    "    for i in range(n):\n",
    "        round_test = Round()\n",
    "        rounds = round_test.run(log=0)[1]\n",
    "        round_counter.append(rounds)\n",
    "    round_dict = dict()\n",
    "    for i in round_counter:\n",
    "        if i in round_dict:\n",
    "            round_dict[i] += 1\n",
    "        else:\n",
    "            round_dict[i] = 1\n",
    "    x = list(round_dict.keys())\n",
    "    x.sort()\n",
    "    y = [round_dict[i] for i in x]\n",
    "    print(\"Average round:\", sum(round_counter) / n)\n",
    "\n",
    "    import matplotlib.pyplot as plt\n",
    "    plt.plot(x, y)\n",
    "    plt.show()\n",
    "round_plot()"
   ]
  },
  {
   "cell_type": "markdown",
   "metadata": {
    "id": "rmjSHRQPkMS_"
   },
   "source": [
    "Therefore, we can see the average of the number of rounds of our game is 6.94, and most of the games will end at about 5 rounds."
   ]
  },
  {
   "cell_type": "code",
   "execution_count": null,
   "metadata": {
    "colab": {
     "base_uri": "https://localhost:8080/"
    },
    "id": "JZ_TcvcspMoV",
    "outputId": "c097ec52-5c22-4b1e-ca98-d366b92220dc"
   },
   "outputs": [
    {
     "name": "stdout",
     "output_type": "stream",
     "text": [
      "Number of rounds less than 3: 186826\n",
      "Proportion: 0.186826\n",
      "Number of rounds more than 15: 45411\n",
      "Proportion: 0.045411\n"
     ]
    }
   ],
   "source": [
    "num = 1000000\n",
    "short = 0\n",
    "more = 0\n",
    "for i in range(num):\n",
    "  round_test = Round()\n",
    "  num_round = round_test.run(log=0)[1]\n",
    "  if num_round <= 3:\n",
    "    short += 1\n",
    "  if num_round >= 15:\n",
    "    more += 1\n",
    "print(\"Number of rounds less than 3:\", short)\n",
    "print(\"Proportion:\", short / num)\n",
    "print(\"Number of rounds more than 15:\", more)\n",
    "print(\"Proportion:\", more / num)"
   ]
  },
  {
   "cell_type": "markdown",
   "metadata": {
    "id": "izf7QCx3pTT6"
   },
   "source": [
    "However, there are about 20% of the games end in 3 rounds and about 5% of the games end in more than 15 rounds."
   ]
  },
  {
   "cell_type": "markdown",
   "metadata": {
    "id": "gloWKPMPwP6q"
   },
   "source": [
    "#### Fairness evaluation"
   ]
  },
  {
   "cell_type": "markdown",
   "metadata": {
    "id": "yBo5Rn7IwP6q"
   },
   "source": [
    "Computer versus computer can expand our confidence level, increase the randomness of the game when player using different strategies. Thus, we can conclude the win rate for each player."
   ]
  },
  {
   "cell_type": "code",
   "execution_count": null,
   "metadata": {
    "colab": {
     "base_uri": "https://localhost:8080/",
     "height": 508
    },
    "id": "vgWXJl9VwP6q",
    "outputId": "e59be1cb-e710-4e12-ab61-0c88f10f4546"
   },
   "outputs": [
    {
     "name": "stdout",
     "output_type": "stream",
     "text": [
      "Player 1 win rate: 50.03%\n",
      "Player 2 win rate: 49.97%\n"
     ]
    },
    {
     "data": {
      "image/png": "[encoded data removed]",
      "text/plain": [
       "<Figure size 640x480 with 1 Axes>"
      ]
     },
     "metadata": {},
     "output_type": "display_data"
    }
   ],
   "source": [
    "import matplotlib.pyplot as plt\n",
    "def test_game_fairness(num_games):\n",
    "  p1_wins = 0\n",
    "  p2_wins = 0\n",
    "  for _ in range(num_games):\n",
    "    round_test = Round()\n",
    "    winner, _ = round_test.run(log=0)\n",
    "    if winner == \"p1\":\n",
    "      p1_wins += 1\n",
    "    else:\n",
    "      p2_wins += 1\n",
    "  p1_win_rate = p1_wins / num_games\n",
    "  p2_win_rate = p2_wins / num_games\n",
    "  return p1_win_rate, p2_win_rate\n",
    "\n",
    "\n",
    "def plot_win_rates(p1_win_rate, p2_win_rate):\n",
    "  players = ['Player 1', 'Player 2']\n",
    "  win_rates = [p1_win_rate, p2_win_rate]\n",
    "  plt.bar(players, win_rates)\n",
    "  plt.xlabel('Players')\n",
    "  plt.ylabel('Win Rate')\n",
    "  plt.title('Win Rates of Players in the Card Game')\n",
    "  for i, v in enumerate(win_rates):\n",
    "    plt.text(i, v, f'{v * 100:.2f}%', ha='center')\n",
    "  plt.show()\n",
    "\n",
    "num_games = 1000000\n",
    "p1_win_rate, p2_win_rate = test_game_fairness(num_games)\n",
    "print(f\"Player 1 win rate: {p1_win_rate * 100:.2f}%\")\n",
    "print(f\"Player 2 win rate: {p2_win_rate * 100:.2f}%\")\n",
    "plot_win_rates(p1_win_rate, p2_win_rate)"
   ]
  },
  {
   "cell_type": "markdown",
   "metadata": {
    "id": "rj2kffKBkhI2"
   },
   "source": [
    "Therefore, we can see the probability of each player to win ais approximately the same, which means the game is fair."
   ]
  },
  {
   "cell_type": "markdown",
   "metadata": {
    "id": "ax7mPHxwp3G8"
   },
   "source": [
    "## Game Update(Version2)"
   ]
  },
  {
   "cell_type": "markdown",
   "metadata": {
    "id": "42Q_y_myqGM7"
   },
   "source": [
    "After the game evaluation, we discovered several improvements. Therefore, our objectives are in three folds.\n",
    "\n",
    "Discoverd shortcoming:\n",
    "1. From round distribution, outliers have discovered (above average rounds and below). Sometimes the game ends in 3 rounds and sometimes it takes 20 rounds to end.\n",
    "2. Homogeneous game mode\n",
    "\n",
    "Consideration:\n",
    "- Minimizing extreme examples to ensure the game pace\n",
    "- Increase gameplay  mode and make it more interesting\n",
    "- Avoiding too long or too short game time and fairness\n",
    "\n",
    "Improving objective:\n",
    "1. Adjust game rules in each round to improve the gaming experience and avoid the gaming time being too long or too short.\n",
    "2. Update the game type, add \"armor\", \"evolution\" game mode\n",
    "3. Dynamically adjust the triggering probability of the mechanism and judgment card according to the number of rounds."
   ]
  },
  {
   "cell_type": "markdown",
   "metadata": {
    "id": "WMpWlm1zi7b4"
   },
   "source": [
    "### Code of Version 2"
   ]
  },
  {
   "cell_type": "markdown",
   "metadata": {
    "id": "pkXVRQXpjAa6"
   },
   "source": [
    "#### Code"
   ]
  },
  {
   "cell_type": "code",
   "execution_count": null,
   "metadata": {
    "id": "kBzFMQ2FdLqg"
   },
   "outputs": [],
   "source": [
    "import random as rd\n",
    "\n",
    "\n",
    "class Card:\n",
    "\n",
    "    def __init__(self, **kwargs):\n",
    "        self.name = \"card\"\n",
    "        self.value = 0\n",
    "\n",
    "    def __str__(self):\n",
    "        return self.name\n",
    "\n",
    "    def execute(self, *players):\n",
    "        pass\n",
    "\n",
    "\n",
    "class Basic_Card(Card):\n",
    "\n",
    "    def __init__(self, player, **kwargs):\n",
    "        super().__init__()\n",
    "        self.player = player\n",
    "        self.type = kwargs[\"type\"]\n",
    "\n",
    "\n",
    "class Normal_Card(Basic_Card):\n",
    "\n",
    "    def __init__(self, player, **kwargs):\n",
    "        super().__init__(player, **kwargs)\n",
    "        self.player = player\n",
    "\n",
    "        self.range: str = kwargs[\"range\"]  # \"air\" \"land\"\n",
    "        # self.type: str = kwargs[\"type\"]  # \"def\" \"atk\"\n",
    "        self.name = \" \".join([kwargs[\"type\"], kwargs[\"range\"], \"card\"])\n",
    "        try:\n",
    "            self.level: int = kwargs[\"level\"]  # 1(low) 2(high)\n",
    "            self.name = \" \".join([kwargs[\"type\"], str(kwargs[\"level\"]), kwargs[\"range\"], \"card\"])\n",
    "        except KeyError:\n",
    "            pass\n",
    "\n",
    "        if self.type == \"def\":\n",
    "            self.value = self.level\n",
    "        elif self.type == \"atk\":\n",
    "            self.value = - (2 + self.player.level)\n",
    "\n",
    "    def execute(self, random_num, counter):\n",
    "        if counter < 5:\n",
    "            critical_value = 0.8\n",
    "        elif counter < 8:\n",
    "            critical_value = 0.5\n",
    "        else:\n",
    "            critical_value = 0.1\n",
    "\n",
    "        if self.type == \"def\":\n",
    "            self.value = self.level\n",
    "        elif self.type == \"atk\":\n",
    "            self.value = - (2 + self.player.level)\n",
    "\n",
    "        if self.type == \"def\" and self.player.enemy.card.type == \"atk\" and self.range == self.player.enemy.card.range:\n",
    "            if self.player.skill.type == \"comprehensive_def\":\n",
    "                self.player.hp += 2\n",
    "                self.player.skill.life = 0\n",
    "            else:\n",
    "                self.player.hp += self.value\n",
    "        elif self.type == \"def\" and self.player.enemy.card.type == \"atk\" and self.range != self.player.enemy.card.range:\n",
    "            if self.player.skill.type == \"comprehensive_def\":\n",
    "                self.player.hp += 2\n",
    "                self.player.skill.life = 0\n",
    "            elif rd.random() < critical_value:\n",
    "                self.player.hp += 1\n",
    "                return True\n",
    "        elif self.type == \"atk\" and self.player.enemy.card.type != \"atk\":\n",
    "            self.player.enemy.hp += self.value\n",
    "            self.player.add_damage(self.value)\n",
    "        elif self.type == self.player.enemy.card.type == \"atk\":\n",
    "            if self.player.skill.type == \"fierce_attack\" and self.player.enemy.skill.type != \"fierce_attack\":\n",
    "                self.player.enemy.hp -= 1\n",
    "                self.player.add_damage(1)\n",
    "                self.player.skill.life = 0\n",
    "            elif self.player.skill.type != \"fierce_attack\" and self.player.enemy.skill.type != \"fierce_attack\":\n",
    "                self.player.enemy.hp += self.value\n",
    "                self.player.add_damage(self.value)\n",
    "            elif self.player.skill.type == \"fierce_attack\" and self.player.enemy.skill.type == \"fierce_attack\":\n",
    "                self.player.enemy.hp -= 1\n",
    "                self.player.add_damage(1)\n",
    "                self.player.skill.life = 0\n",
    "        elif self.type == self.player.enemy.card.type == \"def\":\n",
    "            if random_num < critical_value:\n",
    "                self.player.hp += 1\n",
    "                return True\n",
    "        return False\n",
    "\n",
    "\n",
    "class Skill_Card(Basic_Card):\n",
    "    \"\"\"\n",
    "    comprehensive_def, impeccable, first_aid, fierce_attack, none\n",
    "    \"\"\"\n",
    "\n",
    "    def __init__(self, player, **kwargs):\n",
    "        super().__init__(player, **kwargs)\n",
    "        self.life = 2\n",
    "        self.name = self.type + \" card\"\n",
    "\n",
    "    def __str__(self):\n",
    "        return self.name + \" \" + str(self.life)\n",
    "\n",
    "\n",
    "class Judgement_Card(Card):\n",
    "\n",
    "    def __init__(self):\n",
    "        super().__init__()\n",
    "        self.probability = 0.5\n",
    "\n",
    "    def update(self, counter):\n",
    "        if counter < 5:\n",
    "            self.probability = 0.1\n",
    "        elif counter < 8:\n",
    "            self.probability = 0.5\n",
    "        else:\n",
    "            self.probability = 0.8\n",
    "\n",
    "\n",
    "class Lightning_Card(Judgement_Card):\n",
    "\n",
    "    def __init__(self):\n",
    "        super().__init__()\n",
    "        self.type = \"lightning\"\n",
    "        self.name = \" \".join([self.type, \"card\"])\n",
    "        self.value = -1\n",
    "\n",
    "    def execute(self, *players):\n",
    "        if rd.random() < self.probability:\n",
    "            for p in players:\n",
    "                if p.skill.type == \"impeccable\":\n",
    "                    p.skill.life = 0\n",
    "                    return False\n",
    "            player = rd.choice(players)\n",
    "            player.hp += self.value\n",
    "            return player.name\n",
    "        return False\n",
    "\n",
    "    def update(self, counter):\n",
    "        if counter < 5:\n",
    "            self.probability = 0.1\n",
    "        elif counter < 8:\n",
    "            self.probability = 0.75\n",
    "        else:\n",
    "            self.probability = 1\n",
    "\n",
    "\n",
    "class Airstrike_Card(Judgement_Card):\n",
    "\n",
    "    def __init__(self):\n",
    "        super().__init__()\n",
    "        self.type = \"airstrike\"\n",
    "        self.name = \" \".join([self.type, \"card\"])\n",
    "        self.value = -1\n",
    "\n",
    "    def execute(self, *players) -> bool:\n",
    "        if rd.random() < self.probability:\n",
    "            for p in players:\n",
    "                if p.skill.type == \"impeccable\":\n",
    "                    p.skill.life = 0\n",
    "                    return False\n",
    "            for p in players:\n",
    "                p.hp += self.value\n",
    "            return True\n",
    "        return False\n",
    "\n",
    "\n",
    "class Restore_Card(Judgement_Card):\n",
    "\n",
    "    def __init__(self):\n",
    "        super().__init__()\n",
    "        self.type = \"restore\"\n",
    "        self.name = \" \".join([self.type, \"card\"])\n",
    "        self.value = 1\n",
    "\n",
    "    def execute(self, *players) -> bool:\n",
    "        if rd.random() < self.probability:\n",
    "            for p in players:\n",
    "                if p.skill.type == \"impeccable\":\n",
    "                    p.skill.life = 0\n",
    "                    return False\n",
    "            for p in players:\n",
    "                p.hp += self.value\n",
    "            return True\n",
    "        return False\n",
    "\n",
    "    def update(self, counter):\n",
    "        if counter < 5:\n",
    "            self.probability = 0.8\n",
    "        elif counter < 8:\n",
    "            self.probability = 0.5\n",
    "        else:\n",
    "            self.probability = 0.1\n",
    "\n",
    "\n",
    "class Famine_Card(Judgement_Card):\n",
    "\n",
    "    def __init__(self):\n",
    "        super().__init__()\n",
    "        self.type = \"famine\"\n",
    "        self.name = \" \".join([self.type, \"card\"])\n",
    "\n",
    "    def execute(self, *players) -> bool:\n",
    "        if rd.random() < self.probability:\n",
    "            for p in players:\n",
    "                if p.skill.type == \"impeccable\":\n",
    "                    p.skill.life = 0\n",
    "                    return False\n",
    "            for p in players:\n",
    "                if p.cards:\n",
    "                    card_index = rd.randint(0, len(p.cards) - 1)\n",
    "                    p.cards.pop(card_index)\n",
    "            return True\n",
    "        return False\n",
    "\n",
    "\n",
    "class Player:\n",
    "\n",
    "    def __init__(self, name=\"player\"):\n",
    "        self.name = name\n",
    "\n",
    "        self.armor_origin = 4\n",
    "        self.armor_max = self.armor_origin\n",
    "        self.armor = self.armor_max\n",
    "        self.blood_max = 6\n",
    "        self.blood = self.blood_max\n",
    "        self.hp_max = self.armor_max + self.blood_max\n",
    "        self.hp = self.hp_max\n",
    "\n",
    "        self.damage = 0\n",
    "        self.level = 0\n",
    "        self.level_up_damage = 3\n",
    "        self.level_max = 3\n",
    "\n",
    "        self.cards_max = 4\n",
    "        self.cards = []\n",
    "        self.skill = Skill_Card(self, type=\"none\")\n",
    "        self.enemy = None\n",
    "        self.card = Normal_Card(self, type=\"none\", range=\"\")\n",
    "\n",
    "    def __str__(self):\n",
    "        return self.name\n",
    "\n",
    "    def set_enemy(self, enemy):\n",
    "        self.enemy = enemy\n",
    "\n",
    "    def play_card(self, card_index):\n",
    "        self.card = self.cards.pop(card_index)\n",
    "\n",
    "    def get_basic_cards(self, num):\n",
    "        for i in range(num):\n",
    "            random_num = rd.random()\n",
    "            if random_num < 0.6:\n",
    "                rd_num = rd.random()\n",
    "                if rd_num < 0.25:\n",
    "                    self.cards.append(Normal_Card(self, type=\"atk\", range=\"air\"))\n",
    "                elif rd_num < 0.5:\n",
    "                    self.cards.append(Normal_Card(self, type=\"atk\", range=\"land\"))\n",
    "                elif rd_num < 0.625:\n",
    "                    self.cards.append(Normal_Card(self, type=\"def\", level=1, range=\"air\"))\n",
    "                elif rd_num < 0.75:\n",
    "                    self.cards.append(Normal_Card(self, type=\"def\", level=2, range=\"air\"))\n",
    "                elif rd_num < 0.875:\n",
    "                    self.cards.append(Normal_Card(self, type=\"def\", level=1, range=\"land\"))\n",
    "                else:\n",
    "                    self.cards.append(Normal_Card(self, type=\"def\", level=2, range=\"land\"))\n",
    "            else:\n",
    "                self.cards.append(rd.choice([Skill_Card(self, type=\"comprehensive_def\"),\n",
    "                                             Skill_Card(self, type=\"first_aid\"),\n",
    "                                             Skill_Card(self, type=\"impeccable\"),\n",
    "                                             Skill_Card(self, type=\"fierce_attack\")]))\n",
    "\n",
    "    def fold(self, card_index):\n",
    "        try:\n",
    "            self.cards.pop(card_index)\n",
    "        except IndexError:\n",
    "            pass\n",
    "\n",
    "    def is_full(self) -> bool:\n",
    "        return len(self.cards) > self.cards_max\n",
    "\n",
    "    def update_hp(self):\n",
    "        self.hp = min(self.hp, self.hp_max)\n",
    "        if 0 >= self.hp == self.enemy.hp <= 0:\n",
    "            self.hp = 1\n",
    "            self.enemy.hp = 1\n",
    "\n",
    "        d_hp = self.hp_max - self.hp\n",
    "        self.armor = self.armor_max\n",
    "        self.blood = self.blood_max\n",
    "        while d_hp > 0:\n",
    "            if self.armor > 0:\n",
    "                self.armor -= 1\n",
    "            else:\n",
    "                self.blood -= 1\n",
    "            d_hp -= 1\n",
    "\n",
    "    def update_armor_max(self, counter):\n",
    "        self.armor_max = max(0, self.armor_origin - counter)\n",
    "        self.armor = min(self.armor_max, self.armor)\n",
    "        self.hp_max = self.blood_max + self.armor_max\n",
    "        self.hp = min(self.hp, self.hp_max)\n",
    "\n",
    "    def update_level(self):\n",
    "        self.level = min(self.damage // self.level_up_damage, self.level_max)\n",
    "\n",
    "    def add_damage(self, value):\n",
    "        self.damage += abs(value)\n",
    "\n",
    "    def get_skill_cards(self) -> list:\n",
    "        return [i for i in self.cards if isinstance(i, Skill_Card)]\n",
    "\n",
    "    def get_normal_cards_index(self):\n",
    "        return [i for i in range(len(self.cards)) if isinstance(self.cards[i], Normal_Card)]\n",
    "\n",
    "    def skip(self):\n",
    "        self.card = Normal_Card(self, type=\"skip\", range=\"\")\n",
    "\n",
    "\n",
    "class Round:\n",
    "\n",
    "    def __init__(self):\n",
    "        self.player1 = Player(\"p1\")\n",
    "        self.player2 = Player(\"p2\")\n",
    "        self.player1.set_enemy(self.player2)\n",
    "        self.player2.set_enemy(self.player1)\n",
    "        self.players = [self.player1, self.player2]\n",
    "        for p in self.players:\n",
    "            p.get_basic_cards(2)\n",
    "        self.counter = 0\n",
    "\n",
    "    @staticmethod\n",
    "    def get_judgement_card() -> Judgement_Card:\n",
    "        return rd.choice([Airstrike_Card(), Famine_Card(), Lightning_Card(), Restore_Card()])\n",
    "\n",
    "    def run(self, mode=\"c2c\", log=1) -> tuple:\n",
    "        \"\"\"\n",
    "        mode:\n",
    "          \"c2c\": computer versus computer\n",
    "            self.player1: computer\n",
    "            self.player2: computer\n",
    "          \"c2p\": computer versus player\n",
    "            self.player1: computer\n",
    "            self.player2: player\n",
    "          \"p2p\": player versus player\n",
    "            self.player1: player\n",
    "            self.player2: player\n",
    "        log:\n",
    "          0: no log\n",
    "          1: detailed log\n",
    "          2: simple log\n",
    "        \"\"\"\n",
    "        first_round = True\n",
    "        while True:\n",
    "            for p in self.players:\n",
    "                p.update_armor_max(self.counter)\n",
    "            self.counter += 1\n",
    "\n",
    "            # Draw cards and fold\n",
    "            if mode == \"c2c\":\n",
    "                for p in self.players:\n",
    "                    p.get_basic_cards(2)\n",
    "                    while p.is_full():\n",
    "                        p.fold(rd.randint(0, len(p.cards) - 1))\n",
    "            elif mode == \"p2p\":\n",
    "                for p in self.players:\n",
    "                    p.get_basic_cards(2)\n",
    "                    while True:\n",
    "                        try:\n",
    "                            if p.is_full():\n",
    "                                p.fold(int(input(\"Please fold: \" + str([str(i) for i in p.cards]))))\n",
    "                                continue\n",
    "                            else:\n",
    "                                break\n",
    "                        except Exception:\n",
    "                            continue\n",
    "            elif mode == \"c2p\":\n",
    "                for p in self.players:\n",
    "                    p.get_basic_cards(2)\n",
    "                while self.player1.is_full():\n",
    "                    self.player1.fold(rd.randint(0, len(self.player1.cards) - 1))\n",
    "                while True:\n",
    "                    try:\n",
    "                        self.player2.fold(int(input(\"Please fold: \" + str([str(i) for i in self.player2.cards]))))\n",
    "                        if self.player2.is_full():\n",
    "                            continue\n",
    "                        else:\n",
    "                            break\n",
    "                    except Exception:\n",
    "                        continue\n",
    "\n",
    "            if log == 1:\n",
    "                print(\"\\nDraw cards:\")\n",
    "                print(\"\\np1: \" + str([str(i) for i in self.player1.cards]) + \" | Skill: \"\n",
    "                      + str(self.player1.skill) + \" | Blood: \" + str(self.player1.blood) + \" | Armor: \"\n",
    "                      + str(self.player1.armor) + \" | Armor Max: \" + str(self.player1.armor_max)\n",
    "                      + \" | Level: \" + str(self.player1.level))\n",
    "                print(\"\\np2: \" + str([str(i) for i in self.player2.cards]) + \" | Skill: \"\n",
    "                      + str(self.player2.skill) + \" | Blood: \" + str(self.player2.blood) + \" | Armor: \"\n",
    "                      + str(self.player2.armor) + \" | Armor Max: \" + str(self.player2.armor_max)\n",
    "                      + \" | Level: \" + str(self.player2.level))\n",
    "                print(\"\\n\")\n",
    "\n",
    "            # Equip skills\n",
    "            if mode == \"c2c\":\n",
    "                for p in self.players:\n",
    "                    skill_cards = p.get_skill_cards()\n",
    "                    if skill_cards and rd.random() < 0.5:\n",
    "                        p.skill = rd.choice(skill_cards)\n",
    "                        p.cards.remove(p.skill)\n",
    "            elif mode == \"p2p\":\n",
    "                for p in self.players:\n",
    "                    skill_cards = p.get_skill_cards()\n",
    "                    while True:\n",
    "                        user_input = input(\"Equip your skill: \" + str([str(i) for i in skill_cards]))\n",
    "                        if user_input != \"none\":\n",
    "                            try:\n",
    "                                p.skill = skill_cards[int(user_input)]\n",
    "                            except Exception:\n",
    "                                continue\n",
    "                            p.cards.remove(p.skill)\n",
    "                            break\n",
    "                        elif user_input == \"none\":\n",
    "                            break\n",
    "            elif mode == \"c2p\":\n",
    "                skill_cards = self.player1.get_skill_cards()\n",
    "                if skill_cards and rd.random() < 0.5:\n",
    "                    self.player1.skill = rd.choice(skill_cards)\n",
    "                    self.player1.cards.remove(self.player1.skill)\n",
    "\n",
    "                skill_cards = self.player2.get_skill_cards()\n",
    "                while True:\n",
    "                    user_input = input(\"Equip your skill: \" + str([str(i) for i in skill_cards]))\n",
    "                    if user_input != \"none\":\n",
    "                        try:\n",
    "                            p.skill = skill_cards[int(user_input)]\n",
    "                        except Exception:\n",
    "                            continue\n",
    "                        p.cards.remove(p.skill)\n",
    "                        break\n",
    "                    elif user_input == \"none\":\n",
    "                        break\n",
    "\n",
    "            if log == 1:\n",
    "                print(\"Equip skills:\")\n",
    "                print(\"\\np1: \" + str([str(i) for i in self.player1.cards]) + \" | Skill: \"\n",
    "                      + str(self.player1.skill) + \" | Blood: \" + str(self.player1.blood) + \" | Armor: \"\n",
    "                      + str(self.player1.armor) + \" | Armor Max: \" + str(self.player1.armor_max)\n",
    "                      + \" | Level: \" + str(self.player1.level))\n",
    "                print(\"\\np2: \" + str([str(i) for i in self.player2.cards]) + \" | Skill: \"\n",
    "                      + str(self.player2.skill) + \" | Blood: \" + str(self.player2.blood) + \" | Armor: \"\n",
    "                      + str(self.player2.armor) + \" | Armor Max: \" + str(self.player2.armor_max)\n",
    "                      + \" | Level: \" + str(self.player2.level))\n",
    "                print(\"\\n\")\n",
    "\n",
    "            # Play cards\n",
    "            # Player1\n",
    "            if not (self.player1.get_normal_cards_index() == []):\n",
    "                if mode == \"c2c\" or mode == \"c2p\":\n",
    "                    index1 = rd.choice(self.player1.get_normal_cards_index())\n",
    "                    self.player1.play_card(index1)\n",
    "                elif mode == \"p2p\":\n",
    "                    while True:\n",
    "                        try:\n",
    "                            index1 = int(input(\"Play your cards: \" + str([str(i) for i in self.player1.cards])))\n",
    "                            if isinstance(self.player1.cards[index1], Normal_Card):\n",
    "                                break\n",
    "                        except Exception:\n",
    "                            continue\n",
    "                    self.player1.play_card(index1)\n",
    "            else:\n",
    "                self.player1.skip()\n",
    "\n",
    "            # Player2\n",
    "            if not (self.player2.get_normal_cards_index() == []):\n",
    "                if mode == \"c2c\":\n",
    "                    index2 = rd.choice(self.player2.get_normal_cards_index())\n",
    "                    self.player2.play_card(index2)\n",
    "                elif mode == \"p2p\" or mode == \"c2p\":\n",
    "                    while True:\n",
    "                        try:\n",
    "                            index2 = int(input(\"Play your cards: \" + str([str(i) for i in self.player2.cards])))\n",
    "                            if isinstance(self.player2.cards[index2], Normal_Card):\n",
    "                                break\n",
    "                        except Exception:\n",
    "                            continue\n",
    "                    self.player2.play_card(index2)\n",
    "            else:\n",
    "                self.player2.skip()\n",
    "\n",
    "            # Cards execute\n",
    "            random_num = rd.random()\n",
    "            mechanism1 = self.player1.card.execute(random_num, self.counter)\n",
    "            mechanism2 = self.player2.card.execute(random_num, self.counter)\n",
    "            mechanism = mechanism1 or mechanism2\n",
    "\n",
    "            # Judgement\n",
    "            j_card = self.get_judgement_card()\n",
    "            j_card.update(self.counter)\n",
    "\n",
    "            # prophecy\n",
    "            p1_prophecy = p2_prophecy = \"none\"\n",
    "            if first_round:\n",
    "                origin_valid_choices = [\"airstrike card\", \"famine card\", \"lightning card\", \"restore card\"]  # for player\n",
    "                valid_choices = origin_valid_choices + [\"none\"] * 4  # for computer\n",
    "                if mode == \"c2c\":\n",
    "                    p1_choice = rd.randint(0, 7)\n",
    "                    p2_choice = rd.randint(0, 7)\n",
    "                    if valid_choices[int(p1_choice)] != \"none\":\n",
    "                        p1_prophecy = \"success\" if valid_choices[int(p1_choice)] == str(j_card) else \"fail\"\n",
    "                    if valid_choices[int(p2_choice)] != \"none\":\n",
    "                        p2_prophecy = \"success\" if valid_choices[int(p2_choice)] == str(j_card) else \"fail\"\n",
    "                elif mode == \"p2p\":\n",
    "                    while True:\n",
    "                        p1_choice = input(\"Please make your prophecy: \" + str(origin_valid_choices))\n",
    "                        try:\n",
    "                            if p1_choice != \"none\":\n",
    "                                p1_prophecy = \"success\" if origin_valid_choices[int(p1_choice)] == str(j_card) else \"fail\"\n",
    "                            break\n",
    "                        except Exception:\n",
    "                            continue\n",
    "                    while True:\n",
    "                        p2_choice = input(\"Please make your prophecy: \" + str(origin_valid_choices))\n",
    "                        try:\n",
    "                            if p2_choice != \"none\":\n",
    "                                p2_prophecy = \"success\" if origin_valid_choices[int(p2_choice)] == str(j_card) else \"fail\"\n",
    "                            break\n",
    "                        except Exception:\n",
    "                            continue\n",
    "                elif mode == \"c2p\":\n",
    "                    p1_choice = rd.randint(0, 7)\n",
    "                    if valid_choices[int(p1_choice)] != \"none\":\n",
    "                        p1_prophecy = \"success\" if valid_choices[int(p1_choice)] == str(j_card) else \"fail\"\n",
    "                    while True:\n",
    "                        p2_choice = input(\"Please make your prophecy: \" + str(origin_valid_choices))\n",
    "                        try:\n",
    "                            if p2_choice != \"none\":\n",
    "                                p2_prophecy = \"success\" if origin_valid_choices[int(p2_choice)] == str(j_card) else \"fail\"\n",
    "                            break\n",
    "                        except Exception:\n",
    "                            continue\n",
    "                if p1_prophecy == \"success\":\n",
    "                    self.player2.hp -= 1\n",
    "                elif p1_prophecy == \"fail\":\n",
    "                    self.player1.hp -= 1\n",
    "                if p2_prophecy == \"success\":\n",
    "                    self.player1.hp -= 1\n",
    "                elif p2_prophecy == \"fail\":\n",
    "                    self.player2.hp -= 1\n",
    "\n",
    "            j_result = j_card.execute(self.player1, self.player2)\n",
    "\n",
    "            for p in self.players:\n",
    "                if p.skill.type == \"first_aid\" and p.hp <= 0:\n",
    "                    p.hp = 1\n",
    "                    p.skill.life = 0\n",
    "                p.update_hp()\n",
    "                p.update_level()\n",
    "                if p.skill.type != \"none\":\n",
    "                    p.skill.life -= 1\n",
    "                    if p.skill.life <= 0:\n",
    "                        p.skill = Skill_Card(p, type=\"none\")\n",
    "\n",
    "            if log == 1:\n",
    "                print(\"End of the round:\")\n",
    "                print(\"\\np1: \" + str([str(i) for i in self.player1.cards]) + \" | Skill: \" + str(self.player1.skill) + \" | Card: \" + str(self.player1.card)\n",
    "                      + \" | Blood: \" + str(self.player1.blood) + \" | Armor: \" + str(self.player1.armor) + \" | Armor Max: \" + str(self.player1.armor_max)\n",
    "                      + \" | Level: \" + str(self.player1.level) + \" | HP:\" + str(self.player1.hp))\n",
    "                print(\"\\np2: \" + str([str(i) for i in self.player2.cards]) + \" | Skill: \" + str(self.player2.skill) + \" | Card: \" + str(self.player2.card)\n",
    "                      + \" | Blood: \" + str(self.player2.blood) + \" | Armor: \" + str(self.player2.armor) + \" | Armor Max: \" + str(self.player2.armor_max)\n",
    "                      + \" | Level: \" + str(self.player2.level) + \" | HP:\" + str(self.player2.hp))\n",
    "                print(\"\\n\" + str(j_card) + \" -> \" + str(j_result))\n",
    "                if first_round:\n",
    "                    print(\"p1 prophecy:\", p1_prophecy)\n",
    "                    print(\"p2 prophecy:\", p2_prophecy)\n",
    "                print(\"\\nmechanism -> \" + str(mechanism))\n",
    "                print(\"-----------------------------------------------------------------------------------------------\")\n",
    "\n",
    "            first_round = False\n",
    "\n",
    "            if self.player1.hp <= 0 and self.player1.hp < self.player2.hp:\n",
    "                if log == 2 or log == 1:\n",
    "                    print(\"\\n\\n=========================================================================================\\n\")\n",
    "                    print(\"p2 win.\")\n",
    "                    print(\"Total round:\", self.counter)\n",
    "                return \"p2\", self.counter\n",
    "            elif self.player2.hp <= 0 and self.player2.hp < self.player1.hp:\n",
    "                if log == 2 or log == 1:\n",
    "                    print(\"\\n\\n=========================================================================================\\n\")\n",
    "                    print(\"p1 win.\")\n",
    "                    print(\"Total round:\", self.counter)\n",
    "                return \"p1\", self.counter"
   ]
  },
  {
   "cell_type": "markdown",
   "metadata": {
    "id": "SkRdCUfJjD1o"
   },
   "source": [
    "#### Explaination"
   ]
  },
  {
   "cell_type": "markdown",
   "metadata": {
    "id": "aNXUUcyYfXq4"
   },
   "source": [
    "In our new game, we add these items:\n",
    "\n",
    "1. Player HP is now made up of these two parts: blood (6 point) and armor.\n",
    "  - The initial armor limit is 4 points. After each round of the game, the armor limit decreases by 1 until it reaches 0.\n",
    "  - When a player is being damaged, the armor value is being damaged first, and then the blood value.\n",
    "  - When a player restores, blood is restored first before armor.\n",
    "2. Player's level system:\n",
    "  - The initial level is 0;\n",
    "  - When the player causes 3 points of total damage to the enemy, he can upgrade to a higher level.\n",
    "  - Each time the player upgrades a level, the damage of the player's attack card increases by 1.\n",
    "  - The maximum of the level is 3.\n",
    "3. Dynamic probabilities:\n",
    "  - Compared to version 1, we have adjusted the probability of judgment cards, making it easier for players to lose HP through judgment cards in the later stages of the game.\n",
    "  - Set the probability of the mechanic to change dynamically according to the number of rounds, making it easier to trigger in the early game and harder to trigger in the late game."
   ]
  },
  {
   "cell_type": "markdown",
   "metadata": {
    "id": "oIly-f6vjrQN"
   },
   "source": [
    "### Evaluation of Version 2"
   ]
  },
  {
   "cell_type": "markdown",
   "metadata": {
    "id": "w55LVy-sj3ZN"
   },
   "source": [
    "##### Round Distribution"
   ]
  },
  {
   "cell_type": "markdown",
   "metadata": {
    "id": "3r2-jr5qkvtl"
   },
   "source": [
    "Number of rounds per each game will be calculated."
   ]
  },
  {
   "cell_type": "code",
   "execution_count": null,
   "metadata": {
    "colab": {
     "base_uri": "https://localhost:8080/",
     "height": 448
    },
    "id": "OPl5227cj2YE",
    "outputId": "4bc52a6e-672c-442a-e27f-9eaed1ca2b27"
   },
   "outputs": [
    {
     "name": "stdout",
     "output_type": "stream",
     "text": [
      "Average round: 8.31592\n"
     ]
    },
    {
     "data": {
      "image/png": "[encoded data removed]",
      "text/plain": [
       "<Figure size 640x480 with 1 Axes>"
      ]
     },
     "metadata": {},
     "output_type": "display_data"
    }
   ],
   "source": [
    "def round_plot():\n",
    "    round_counter = []\n",
    "    n = 1000000\n",
    "    for i in range(n):\n",
    "        round_test = Round()\n",
    "        rounds = round_test.run(log=0)[1]\n",
    "        round_counter.append(rounds)\n",
    "    round_dict = dict()\n",
    "    for i in round_counter:\n",
    "        if i in round_dict:\n",
    "            round_dict[i] += 1\n",
    "        else:\n",
    "            round_dict[i] = 1\n",
    "    x = list(round_dict.keys())\n",
    "    x.sort()\n",
    "    y = [round_dict[i] for i in x]\n",
    "    print(\"Average round:\", sum(round_counter) / n)\n",
    "\n",
    "    import matplotlib.pyplot as plt\n",
    "    plt.plot(x, y)\n",
    "    plt.show()\n",
    "round_plot()"
   ]
  },
  {
   "cell_type": "markdown",
   "metadata": {
    "id": "iCjXTWdmky9E"
   },
   "source": [
    "Therefore, we can see the average of the number of rounds of our game is about 8, and most of the games will end at about 8 rounds."
   ]
  },
  {
   "cell_type": "code",
   "execution_count": null,
   "metadata": {
    "colab": {
     "base_uri": "https://localhost:8080/"
    },
    "id": "qsbrD9IboXsb",
    "outputId": "8be52569-2ae6-4e56-f24b-362947148f14"
   },
   "outputs": [
    {
     "name": "stdout",
     "output_type": "stream",
     "text": [
      "Number of rounds less than 3: 75\n",
      "Proportion: 7.5e-05\n",
      "Number of rounds more than 15: 11316\n",
      "Proportion: 0.011316\n"
     ]
    }
   ],
   "source": [
    "num = 1000000\n",
    "short = 0\n",
    "more = 0\n",
    "for i in range(num):\n",
    "  round_test = Round()\n",
    "  num_round = round_test.run(log=0)[1]\n",
    "  if num_round <= 3:\n",
    "    short += 1\n",
    "  if num_round >= 15:\n",
    "    more += 1\n",
    "print(\"Number of rounds less than 3:\", short)\n",
    "print(\"Proportion:\", short / num)\n",
    "print(\"Number of rounds more than 15:\", more)\n",
    "print(\"Proportion:\", more / num)"
   ]
  },
  {
   "cell_type": "markdown",
   "metadata": {
    "id": "AVdZ4Y6WppcF"
   },
   "source": [
    "Therefore, we can see that our version 2 have had less outliers. Almost no games will ends in 3 rounds and only about 1% of the games will ends in more than 15 rounds, which can provide a better game experience for players."
   ]
  },
  {
   "cell_type": "markdown",
   "metadata": {
    "id": "TKuzGAg-kBHE"
   },
   "source": [
    "##### Fairness Evaluation"
   ]
  },
  {
   "cell_type": "markdown",
   "metadata": {
    "id": "_1IKbTZSk8p8"
   },
   "source": [
    "Computer versus computer can expand our confidence level, increase the randomness of the game when player using different strategies. Thus, we can conclude the win rate for each player."
   ]
  },
  {
   "cell_type": "code",
   "execution_count": null,
   "metadata": {
    "colab": {
     "base_uri": "https://localhost:8080/",
     "height": 508
    },
    "id": "Mfj3eJTwj_5n",
    "outputId": "ef0e9117-8373-4144-92b3-d9fe720bd9be"
   },
   "outputs": [
    {
     "name": "stdout",
     "output_type": "stream",
     "text": [
      "Player 1 win rate: 50.32%\n",
      "Player 2 win rate: 49.68%\n"
     ]
    },
    {
     "data": {
      "image/png": "[encoded data removed]",
      "text/plain": [
       "<Figure size 640x480 with 1 Axes>"
      ]
     },
     "metadata": {},
     "output_type": "display_data"
    }
   ],
   "source": [
    "import matplotlib.pyplot as plt\n",
    "def test_game_fairness(num_games):\n",
    "  p1_wins = 0\n",
    "  p2_wins = 0\n",
    "  for _ in range(num_games):\n",
    "    round_test = Round()\n",
    "    winner, _ = round_test.run(log=0)\n",
    "    if winner == \"p1\":\n",
    "      p1_wins += 1\n",
    "    else:\n",
    "      p2_wins += 1\n",
    "  p1_win_rate = p1_wins / num_games\n",
    "  p2_win_rate = p2_wins / num_games\n",
    "  return p1_win_rate, p2_win_rate\n",
    "\n",
    "\n",
    "def plot_win_rates(p1_win_rate, p2_win_rate):\n",
    "  players = ['Player 1', 'Player 2']\n",
    "  win_rates = [p1_win_rate, p2_win_rate]\n",
    "  plt.bar(players, win_rates)\n",
    "  plt.xlabel('Players')\n",
    "  plt.ylabel('Win Rate')\n",
    "  plt.title('Win Rates of Players in the Card Game')\n",
    "  for i, v in enumerate(win_rates):\n",
    "    plt.text(i, v, f'{v * 100:.2f}%', ha='center')\n",
    "  plt.show()\n",
    "\n",
    "num_games = 1000000\n",
    "p1_win_rate, p2_win_rate = test_game_fairness(num_games)\n",
    "print(f\"Player 1 win rate: {p1_win_rate * 100:.2f}%\")\n",
    "print(f\"Player 2 win rate: {p2_win_rate * 100:.2f}%\")\n",
    "plot_win_rates(p1_win_rate, p2_win_rate)"
   ]
  },
  {
   "cell_type": "markdown",
   "metadata": {
    "id": "MZuU_GL9lAY9"
   },
   "source": [
    "Therefore, we can see the probability of each player to win ais approximately the same, which means the game is fair."
   ]
  },
  {
   "cell_type": "markdown",
   "metadata": {
    "id": "qpznnrQErTpx"
   },
   "source": [
    "## Summary"
   ]
  },
  {
   "cell_type": "markdown",
   "metadata": {
    "id": "oN5LjFBOrX3I"
   },
   "source": [
    "In summary, we developed a card game with multiple elements, which is fair and can provide players a good gaming experience.\n",
    "\n",
    "In version 1, we built the main body of our game. And then, in version 2, we found some disadvantages such as the outliers of the number of the game rounds, which may have a negative influence on gaming experience. Therefore, we modified our game to make it better."
   ]
  }
 ],
 "metadata": {
  "colab": {
   "collapsed_sections": [
    "gJu3lG-SOu4_",
    "7PjmO3Q1Qzg7",
    "7MtXuWAfQ-kD",
    "7P5Ox6ttSnnJ",
    "bX_DmafXV4WA",
    "ZwP7X5kLZ-mE",
    "wbEgOmeuJmU1",
    "Dz9UWFTJL-V-",
    "AULm0ux1WFjJ",
    "vYuRJoCXVhTq",
    "zpKqWp6ZRpU_",
    "qyqhvnxk2uCN",
    "xAXlyyOwssJF",
    "Y166GCzzwP6n",
    "gloWKPMPwP6q",
    "ax7mPHxwp3G8",
    "WMpWlm1zi7b4",
    "pkXVRQXpjAa6",
    "SkRdCUfJjD1o",
    "oIly-f6vjrQN",
    "TKuzGAg-kBHE",
    "qpznnrQErTpx"
   ],
   "provenance": []
  },
  "kernelspec": {
   "display_name": "Python 3 (ipykernel)",
   "language": "python",
   "name": "python3"
  },
  "language_info": {
   "codemirror_mode": {
    "name": "ipython",
    "version": 3
   },
   "file_extension": ".py",
   "mimetype": "text/x-python",
   "name": "python",
   "nbconvert_exporter": "python",
   "pygments_lexer": "ipython3",
   "version": "3.8.12"
  }
 },
 "nbformat": 4,
 "nbformat_minor": 4
}
